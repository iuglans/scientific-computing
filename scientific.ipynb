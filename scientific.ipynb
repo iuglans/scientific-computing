{
 "cells": [
  {
   "cell_type": "code",
   "execution_count": null,
   "metadata": {},
   "outputs": [],
   "source": [
    "import numpy as np\n",
    "import holoviews as hv\n",
    "from numpy import exp, diag\n",
    "\n",
    "hv.notebook_extension()\n",
    "hv.extension(\"bokeh\")"
   ]
  },
  {
   "cell_type": "code",
   "execution_count": null,
   "metadata": {},
   "outputs": [],
   "source": [
    "def u_exact(x, eps):\n",
    "    return (exp(x / eps) - exp(1 / eps)) / (1 - exp(1 / eps))\n"
   ]
  },
  {
   "cell_type": "code",
   "execution_count": null,
   "metadata": {},
   "outputs": [],
   "source": [
    "def Af(eps, N):\n",
    "    h = 1 / N\n",
    "    R = diag([ -eps - h] * N   , -1) + \\\n",
    "        diag([2*eps + h] *(N+1),  0) + \\\n",
    "        diag([ -eps    ] * N   ,  1)\n",
    "    \n",
    "    R = R / h**2\n",
    "    \n",
    "    R[0,:] = 0 # make the top row all zero\n",
    "    R[0,0] = 1 # make the left-top cell 1\n",
    "    R[N,:] = 0 # bottom row = 0\n",
    "    R[N,N] = 1 # right-bottom cell = 1\n",
    "    \n",
    "    f = [1] + [0]*N # make the vector f\n",
    "\n",
    "    return np.array(R, dtype=float), np.array(f, dtype=float) # do some conversion to socalled numpy objects\n",
    "\n",
    "Af(.5, N=10)"
   ]
  },
  {
   "cell_type": "code",
   "execution_count": null,
   "metadata": {},
   "outputs": [],
   "source": [
    "# %%opts Curve  [height=600 width=600 tools=['hover']]\n",
    "\n",
    "N = 10\n",
    "eps = 0.5\n",
    "\n",
    "A,f = Af(eps, N)\n",
    "ys = np.linalg.solve(A,f)\n",
    "xs = np.linspace(0,1,N+1)\n",
    "print(ys)\n",
    "\n",
    "xx = np.linspace(0, 1)\n",
    "(hv.Scatter((xs,ys)).relabel(\"numerical\").options(color=\"red\") * \n",
    " hv.Curve((xx, u_exact(xx, eps))).relabel(\"exact\"))"
   ]
  },
  {
   "cell_type": "code",
   "execution_count": null,
   "metadata": {},
   "outputs": [],
   "source": [
    "# %%opts Curve  [height=600 width=600 tools=['hover']]\n",
    "# %%opts Scatter (marker='x' size=10)\n",
    "# exercise 1\n",
    "\n",
    "plot = hv.Scatter(([],[])) * hv.Curve(([],[]))\n",
    "for eps in [1, 0.5, 0.2, 0.05, 0.01]:\n",
    "    N = 15\n",
    "\n",
    "    A,f = Af(eps, N)\n",
    "    ys = np.linalg.solve(A,f)\n",
    "    xs = np.linspace(0,1,N+1)\n",
    "\n",
    "    xx = np.linspace(0, 1, 200)\n",
    "    plot *= hv.Curve((xx, u_exact(xx, eps))).relabel(f\"eps = {eps}\")\n",
    "    plot *= hv.Scatter((xs,ys)).relabel(f\"eps = {eps}\")\n",
    "            \n",
    "\n",
    "plot.options(legend_position=\"top\")"
   ]
  },
  {
   "cell_type": "code",
   "execution_count": null,
   "metadata": {},
   "outputs": [],
   "source": [
    "# exercise 2\n",
    "\n",
    "plot = hv.Scatter(([],[])) * hv.Curve(([],[]))\n",
    "table = []\n",
    "for eps in [1, 0.5, 0.2, 0.05, 0.01]:\n",
    "    row = []\n",
    "    for N in [16, 32, 64, 128, 256, 512, 1024]:\n",
    "        A,f = Af(eps, N)\n",
    "        ys = np.linalg.solve(A,f)\n",
    "        xs = np.linspace(0,1,N+1)\n",
    "\n",
    "        y_ex = u_exact(xs, eps)\n",
    "        \n",
    "        error = np.max(np.abs(ys - y_ex))\n",
    "        h = 1/N\n",
    "        print(f\"eps={eps:.4f}, N = {N:5d}, error = {error:.4f}, err/h = {error/h:.4f}\")\n",
    "        row.append(error)\n",
    "    print()\n",
    "    table.append(row)\n",
    "np.array(table)"
   ]
  },
  {
   "cell_type": "code",
   "execution_count": null,
   "metadata": {},
   "outputs": [],
   "source": [
    "# opgave 3\n",
    "\n",
    "# not symmetrix\n",
    "\n",
    "A,f = Af(eps=1, N=5)\n",
    "np.linalg.inv(A)"
   ]
  },
  {
   "cell_type": "code",
   "execution_count": null,
   "metadata": {},
   "outputs": [],
   "source": [
    "# %%opts Curve  [height=600 width=600 tools=['hover']]\n",
    "# %%opts Scatter (marker='x' size=3)\n",
    "# exercise 4\n",
    "\n",
    "# for N in [8, 16, 32]: #, 32, 64, 128, 256, 512, 1024]:\n",
    "N = 128\n",
    "eps = .2\n",
    "\n",
    "plot = hv.Scatter(([],[]))\n",
    "eigenvector_plot = hv.Scatter(([],[]))\n",
    "\n",
    "A,f = Af(eps, N)\n",
    "plot *= hv.Scatter(sorted(np.linalg.eigvals(A))).relabel(f\"{eps}\")\n",
    "\n",
    "eig, vv = np.linalg.eig(A)\n",
    "\n",
    "idx = eig.argsort()  \n",
    "eig = eig[idx]\n",
    "vv = vv[:,idx]\n",
    "\n",
    "plot = hv.Scatter(eig).relabel(f\"{eps}\")\n",
    "plot.options(legend_position=\"top\")"
   ]
  },
  {
   "cell_type": "code",
   "execution_count": null,
   "metadata": {},
   "outputs": [],
   "source": [
    "hv.Curve(vv[:,0]) + hv.Curve(vv[:,1]) + hv.Curve(vv[:,15])+ hv.Curve(vv[:,64])+ hv.Curve(vv[:,127])"
   ]
  },
  {
   "cell_type": "code",
   "execution_count": null,
   "metadata": {},
   "outputs": [],
   "source": [
    "np.linalg.eigvals(A)"
   ]
  },
  {
   "cell_type": "code",
   "execution_count": null,
   "metadata": {},
   "outputs": [],
   "source": [
    "# exercise 5\n",
    "\n",
    "table = []\n",
    "for eps in [1, 0.5, 0.2, 0.05, 0.01]:\n",
    "    row = []\n",
    "    for N in [8, 16, 32, 64, 128, 256, 512]:\n",
    "        A,f = Af(eps, N)\n",
    "        D = np.diag(np.diag(A))\n",
    "        B = np.identity(N+1) - np.linalg.inv(D) @ A\n",
    "        \n",
    "        eigs = np.linalg.eigvals(B)\n",
    "        rho = np.max(eigs)\n",
    "        \n",
    "        print(f\"eps={eps:.4f}, N = {N:5d}, rho = {rho:.4f}\")\n",
    "    print()\n"
   ]
  },
  {
   "cell_type": "code",
   "execution_count": null,
   "metadata": {},
   "outputs": [],
   "source": []
  },
  {
   "cell_type": "code",
   "execution_count": null,
   "metadata": {},
   "outputs": [],
   "source": [
    "# %%opts Scatter (marker='x' size=3)\n",
    "eps = 0.5\n",
    "\n",
    "plot = hv.Scatter([])\n",
    "\n",
    "for N in [8, 16, 32, 64]:\n",
    "    u = [0] * (N+1)\n",
    "    A, f = Af(N=N, eps=eps)\n",
    "    n = 0\n",
    "    residuals = []\n",
    "    while True:\n",
    "        n += 1\n",
    "        # single step\n",
    "        z = u[:] # copy of u\n",
    "        for i in range(N+1): # i = 0 .. N\n",
    "            z[i] = (f[i] - A[i,0:i] @ u[0:i] - A[i,i+1:N] @ u[i+1:N]) / A[i, i]\n",
    "        u = z\n",
    "\n",
    "        r = f - A @ u\n",
    "        stopping_crit = np.max(np.abs(r)) / np.max(np.abs(f))\n",
    "        residuals.append(stopping_crit)\n",
    "\n",
    "        if stopping_crit < 1e-6:\n",
    "            plot *= hv.Scatter(residuals).relabel(f\"N={N}\")\n",
    "            print(N)\n",
    "            print(residuals[-5] / residuals[-6])\n",
    "            print(residuals[-4] / residuals[-5])\n",
    "            print(residuals[-3] / residuals[-4])\n",
    "            print(residuals[-2] / residuals[-3])\n",
    "            print(residuals[-1] / residuals[-2])\n",
    "            break\n",
    "\n",
    "plot.options(legend_position=\"top\", logy=True)"
   ]
  },
  {
   "cell_type": "code",
   "execution_count": null,
   "metadata": {},
   "outputs": [],
   "source": [
    "# 3 * N**2\n",
    "\n",
    "(0.948 + 0.888) / 2"
   ]
  },
  {
   "cell_type": "code",
   "execution_count": null,
   "metadata": {},
   "outputs": [],
   "source": []
  }
 ],
 "metadata": {
  "kernelspec": {
   "display_name": "Python 3",
   "language": "python",
   "name": "python3"
  },
  "language_info": {
   "codemirror_mode": {
    "name": "ipython",
    "version": 3
   },
   "file_extension": ".py",
   "mimetype": "text/x-python",
   "name": "python",
   "nbconvert_exporter": "python",
   "pygments_lexer": "ipython3",
   "version": "3.6.7"
  }
 },
 "nbformat": 4,
 "nbformat_minor": 2
}
